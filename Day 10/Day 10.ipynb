{
 "cells": [
  {
   "cell_type": "markdown",
   "metadata": {},
   "source": [
    "The hypothesis are as under:\n",
    "\n",
    "1. Not all employees have experience of 5 years\n",
    "\n",
    "2. Average age of employee is 42 years.\n",
    "\n",
    "3. Most of the eployees love to travel.\n",
    "\n",
    "4. Average salary of employee is not equal to 90000.\n",
    "\n",
    "5. Each employee is happy with his/her current manager.\n",
    "\n",
    "6. Attrution rate is less than 10%.\n",
    "\n",
    "7. Emplyees are satisfied with their salary hike.\n",
    "\n",
    "8. About 29% employ work for R&D.\n",
    "\n",
    "9. Married employees take more risk of leaving than single ones.\n",
    "\n",
    "10. Relatively more men quit than women.\n"
   ]
  }
 ],
 "metadata": {
  "kernelspec": {
   "display_name": "Python 3",
   "language": "python",
   "name": "python3"
  },
  "language_info": {
   "codemirror_mode": {
    "name": "ipython",
    "version": 3
   },
   "file_extension": ".py",
   "mimetype": "text/x-python",
   "name": "python",
   "nbconvert_exporter": "python",
   "pygments_lexer": "ipython3",
   "version": "3.7.6"
  }
 },
 "nbformat": 4,
 "nbformat_minor": 4
}
