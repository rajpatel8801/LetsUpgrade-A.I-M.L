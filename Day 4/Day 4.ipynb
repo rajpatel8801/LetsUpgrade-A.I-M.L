{
 "cells": [
  {
   "cell_type": "markdown",
   "metadata": {},
   "source": [
    "# Question 1 :Research on whether addition, subtraction, multiplication, division, floor division and modulo operations be performed on complex numbers. Based on your study, implement a Python program to demonstrate these operations."
   ]
  },
  {
   "cell_type": "code",
   "execution_count": 3,
   "metadata": {},
   "outputs": [
    {
     "name": "stdout",
     "output_type": "stream",
     "text": [
      "Addition of (6+3j) and (3+2j) :  (9+5j)\n"
     ]
    }
   ],
   "source": [
    "# Addintion\n",
    "\n",
    "x1 = (6+3j)\n",
    "x2 = (3+2j)\n",
    "\n",
    "print(f'Addition of {x1} and {x2} : ', (x1 + x2))"
   ]
  },
  {
   "cell_type": "code",
   "execution_count": 6,
   "metadata": {},
   "outputs": [
    {
     "name": "stdout",
     "output_type": "stream",
     "text": [
      "Subtraction of (6-2j) and (2+4j) :  (4-6j)\n"
     ]
    }
   ],
   "source": [
    "# Subtraction\n",
    "\n",
    "x1 = (6-2j)\n",
    "x2 = (2+4j)\n",
    "\n",
    "print(f'Subtraction of {x1} and {x2} : ', (x1 - x2))"
   ]
  },
  {
   "cell_type": "code",
   "execution_count": 7,
   "metadata": {},
   "outputs": [
    {
     "name": "stdout",
     "output_type": "stream",
     "text": [
      "Division of (2+7j) and (3+9j) :  (0.7666666666666667+0.033333333333333305j)\n"
     ]
    }
   ],
   "source": [
    "# Division\n",
    "\n",
    "x1 = (2+7j)\n",
    "x2 = (3+9j)\n",
    "\n",
    "print(f'Division of {x1} and {x2} : ', (x1 / x2))"
   ]
  },
  {
   "cell_type": "code",
   "execution_count": 8,
   "metadata": {},
   "outputs": [
    {
     "ename": "TypeError",
     "evalue": "can't take floor of complex number.",
     "output_type": "error",
     "traceback": [
      "\u001b[1;31m---------------------------------------------------------------------------\u001b[0m",
      "\u001b[1;31mTypeError\u001b[0m                                 Traceback (most recent call last)",
      "\u001b[1;32m<ipython-input-8-7dbd33832d2f>\u001b[0m in \u001b[0;36m<module>\u001b[1;34m\u001b[0m\n\u001b[0;32m      4\u001b[0m \u001b[0mx2\u001b[0m \u001b[1;33m=\u001b[0m \u001b[1;33m(\u001b[0m\u001b[1;36m4\u001b[0m\u001b[1;33m-\u001b[0m\u001b[1;36m7j\u001b[0m\u001b[1;33m)\u001b[0m\u001b[1;33m\u001b[0m\u001b[1;33m\u001b[0m\u001b[0m\n\u001b[0;32m      5\u001b[0m \u001b[1;33m\u001b[0m\u001b[0m\n\u001b[1;32m----> 6\u001b[1;33m \u001b[0mprint\u001b[0m\u001b[1;33m(\u001b[0m\u001b[1;34mf'floor Division of {x1} and {x2} : '\u001b[0m\u001b[1;33m,\u001b[0m \u001b[1;33m(\u001b[0m\u001b[0mx1\u001b[0m \u001b[1;33m//\u001b[0m \u001b[0mx2\u001b[0m\u001b[1;33m)\u001b[0m\u001b[1;33m)\u001b[0m\u001b[1;33m\u001b[0m\u001b[1;33m\u001b[0m\u001b[0m\n\u001b[0m",
      "\u001b[1;31mTypeError\u001b[0m: can't take floor of complex number."
     ]
    }
   ],
   "source": [
    "# floor Division\n",
    "\n",
    "x1 = (3+6j)\n",
    "x2 = (4-7j)\n",
    "\n",
    "print(f'floor Division of {x1} and {x2} : ', (x1 // x2))"
   ]
  },
  {
   "cell_type": "code",
   "execution_count": 9,
   "metadata": {},
   "outputs": [
    {
     "ename": "TypeError",
     "evalue": "can't mod complex numbers.",
     "output_type": "error",
     "traceback": [
      "\u001b[1;31m---------------------------------------------------------------------------\u001b[0m",
      "\u001b[1;31mTypeError\u001b[0m                                 Traceback (most recent call last)",
      "\u001b[1;32m<ipython-input-9-4f0142807338>\u001b[0m in \u001b[0;36m<module>\u001b[1;34m\u001b[0m\n\u001b[0;32m      4\u001b[0m \u001b[0mx2\u001b[0m \u001b[1;33m=\u001b[0m \u001b[1;33m(\u001b[0m\u001b[1;36m1\u001b[0m\u001b[1;33m+\u001b[0m\u001b[1;36m2j\u001b[0m\u001b[1;33m)\u001b[0m\u001b[1;33m\u001b[0m\u001b[1;33m\u001b[0m\u001b[0m\n\u001b[0;32m      5\u001b[0m \u001b[1;33m\u001b[0m\u001b[0m\n\u001b[1;32m----> 6\u001b[1;33m \u001b[0mprint\u001b[0m\u001b[1;33m(\u001b[0m\u001b[1;34mf'Modulpus of {x1} and {x2} : '\u001b[0m\u001b[1;33m,\u001b[0m \u001b[1;33m(\u001b[0m\u001b[0mx1\u001b[0m \u001b[1;33m%\u001b[0m \u001b[0mx2\u001b[0m\u001b[1;33m)\u001b[0m\u001b[1;33m)\u001b[0m\u001b[1;33m\u001b[0m\u001b[1;33m\u001b[0m\u001b[0m\n\u001b[0m",
      "\u001b[1;31mTypeError\u001b[0m: can't mod complex numbers."
     ]
    }
   ],
   "source": [
    "# modulo operations\n",
    "\n",
    "x1 = (4-3j)\n",
    "x2 = (1+2j)\n",
    "\n",
    "print(f'Modulpus of {x1} and {x2} : ', (x1 % x2))"
   ]
  },
  {
   "cell_type": "code",
   "execution_count": 10,
   "metadata": {},
   "outputs": [
    {
     "name": "stdout",
     "output_type": "stream",
     "text": [
      "Multiplication of (1-2j) and (3-5j) :  (-7-11j)\n"
     ]
    }
   ],
   "source": [
    "# Mulplication\n",
    "\n",
    "x1 = (1-2j)\n",
    "x2 = (3-5j)\n",
    "\n",
    "print(f'Multiplication of {x1} and {x2} : ',(x1 * x2))"
   ]
  },
  {
   "cell_type": "code",
   "execution_count": 13,
   "metadata": {},
   "outputs": [
    {
     "name": "stdout",
     "output_type": "stream",
     "text": [
      "Addition of (4-3j) and (5+7j) :  (9+4j)\n",
      "Subtraction of (4-3j) and (5+7j) :  (-1-10j)\n",
      "Multiplication of (4-3j) and (5+7j) :  (41+13j)\n",
      "Division of (4-3j) and (5+7j) :  (-0.013513513513513507-0.581081081081081j)\n"
     ]
    }
   ],
   "source": [
    "x1 = (4-3j)\n",
    "x2 = (5+7j)\n",
    "\n",
    "print(f'Addition of {x1} and {x2} : ', (x1 + x2))\n",
    "print(f'Subtraction of {x1} and {x2} : ', (x1 - x2))\n",
    "print(f'Multiplication of {x1} and {x2} : ',(x1 * x2))\n",
    "print(f'Division of {x1} and {x2} : ', (x1 / x2))"
   ]
  },
  {
   "cell_type": "markdown",
   "metadata": {},
   "source": [
    "# Question 2 : Research on range() functions and its parameters. Create a markdown cell and write in your own words (no copy-paste from google please) what you understand about it. Implement a small program of your choice on the same."
   ]
  },
  {
   "cell_type": "markdown",
   "metadata": {},
   "source": [
    "\n",
    "*Range()\n",
    "\n",
    "**range() is a Python In-built function.\n",
    "It's used to generate a sequence of Numbers.\n",
    "this function used in Looping system"
   ]
  },
  {
   "cell_type": "markdown",
   "metadata": {},
   "source": [
    "*Syntax\n",
    "\n",
    "**range(start, stop, step)\n",
    "\n",
    "**start: optional-Integer specify from which number to start.Starting from zero(0) by default.\n",
    "stop: required-Integer specify which number to stop. (Not include)\n",
    "step: Optional-Integer number for incrementation."
   ]
  },
  {
   "cell_type": "markdown",
   "metadata": {},
   "source": [
    "# Question 3:Consider two numbers. Perform their subtraction and if the result of subtraction is greater than 25, print their multiplication result else print their division result."
   ]
  },
  {
   "cell_type": "code",
   "execution_count": 16,
   "metadata": {},
   "outputs": [
    {
     "name": "stdout",
     "output_type": "stream",
     "text": [
      "Division :  1.044776119402985\n"
     ]
    }
   ],
   "source": [
    "y = 70\n",
    "z = 67\n",
    "sub = y - z\n",
    "\n",
    "if sub > 25 :\n",
    "    print(\"Multiplication : \", y * z)\n",
    "\n",
    "else:\n",
    "    print(\"Division : \", y / z)"
   ]
  },
  {
   "cell_type": "markdown",
   "metadata": {},
   "source": [
    "# Question 4: Consider a list of 10 elements of integer values. If the number in the list is divisible by 2, print the result as \"square of that number minus 2\"."
   ]
  },
  {
   "cell_type": "code",
   "execution_count": 23,
   "metadata": {},
   "outputs": [
    {
     "name": "stdout",
     "output_type": "stream",
     "text": [
      "898\n",
      "14\n",
      "318094\n",
      "4354\n",
      "62\n",
      "142\n"
     ]
    }
   ],
   "source": [
    "listx = [30,4,193,564,13,66,8,7,15,12]\n",
    "for num in listx:\n",
    "    if num%2 == 0:\n",
    "        print(num**2-2)"
   ]
  },
  {
   "cell_type": "markdown",
   "metadata": {},
   "source": [
    "# Question 5: Consider a list of 10 elements. Print all the elements in the list which are greater than 7 when that number is divided 2."
   ]
  },
  {
   "cell_type": "code",
   "execution_count": 22,
   "metadata": {},
   "outputs": [
    {
     "name": "stdout",
     "output_type": "stream",
     "text": [
      "10\n",
      "66\n",
      "56\n",
      "18\n"
     ]
    }
   ],
   "source": [
    "listty = [10,47,1,66,56,9,18,2,4,87]\n",
    "for n in listty:\n",
    "    if n%2 == 0:\n",
    "        if n > 7:\n",
    "            print(n)"
   ]
  },
  {
   "cell_type": "code",
   "execution_count": null,
   "metadata": {},
   "outputs": [],
   "source": []
  }
 ],
 "metadata": {
  "kernelspec": {
   "display_name": "Python 3",
   "language": "python",
   "name": "python3"
  },
  "language_info": {
   "codemirror_mode": {
    "name": "ipython",
    "version": 3
   },
   "file_extension": ".py",
   "mimetype": "text/x-python",
   "name": "python",
   "nbconvert_exporter": "python",
   "pygments_lexer": "ipython3",
   "version": "3.7.6"
  }
 },
 "nbformat": 4,
 "nbformat_minor": 4
}
