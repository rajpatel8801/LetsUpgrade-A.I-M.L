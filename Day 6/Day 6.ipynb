{
 "cells": [
  {
   "cell_type": "markdown",
   "metadata": {},
   "source": [
    "# Question 1: Assuming that we have some email addresses in the \"username@companyname.com\" format, please write program to print the company name of a given email address. Both user names and company names are composed of letters only."
   ]
  },
  {
   "cell_type": "code",
   "execution_count": 12,
   "metadata": {},
   "outputs": [
    {
     "name": "stdout",
     "output_type": "stream",
     "text": [
      "Company Name from rajesh13@gmail.com : gmail\n"
     ]
    }
   ],
   "source": [
    " mail_id = 'rajesh13@gmail.com'\n",
    "\n",
    "for k in range(len(mail_id)):\n",
    "    if mail_id[k] == '@':\n",
    "        company_name = mail_id[k+1 : mail_id.index('.')]\n",
    "        print(f'Company Name from {mail_id} : {company_name}')"
   ]
  },
  {
   "cell_type": "markdown",
   "metadata": {},
   "source": [
    "# Question 2: Write a program that accepts a comma-separated sequence of words as input and prints the words in a comma separated sequence after sorting them alphabetically.¶"
   ]
  },
  {
   "cell_type": "code",
   "execution_count": 3,
   "metadata": {},
   "outputs": [
    {
     "name": "stdout",
     "output_type": "stream",
     "text": [
      "Enter Words separate by comma (,) : raj,abhishek,anand,jinal,anjali,barbie,divya,harsh,shailesh,daksha\n",
      "Alphabetic Order words : ['abhishek', 'anand', 'anjali', 'barbie', 'daksha', 'divya', 'harsh', 'jinal', 'raj', 'shailesh']\n"
     ]
    }
   ],
   "source": [
    "words = input(\"Enter Words separate by comma (,) : \").split(',')\n",
    "sort_words = sorted(words)\n",
    "print(f'Alphabetic Order words : {sort_words}')"
   ]
  },
  {
   "cell_type": "markdown",
   "metadata": {},
   "source": [
    "# Question_3 : Create Your own Jupyter notebook for Sets"
   ]
  },
  {
   "cell_type": "code",
   "execution_count": 11,
   "metadata": {},
   "outputs": [
    {
     "name": "stdout",
     "output_type": "stream",
     "text": [
      "{'LetsUpgrade', 'Python', 'Rajesh', 'Cricket'}\n",
      "{'Rajesh', 'LetsUpgrade', 'Addition', 'Cricket', 'Python'}\n",
      "{'LetsUpgrade', 'Addition', 'Cricket', 'Python'}\n",
      "{'Addition', 'Cricket', 'Python'}\n",
      "A U B = {'c', 2, 'a', 'd'}\n",
      "set()\n"
     ]
    }
   ],
   "source": [
    "my_set={'Rajesh','Python','LetsUpgrade','Cricket'}\n",
    "print(my_set)\n",
    "\n",
    "#functions\n",
    "my_set.add('Addition')\n",
    "print(my_set)\n",
    "\n",
    "my_set.pop()\n",
    "print(my_set)\n",
    "\n",
    "my_set.discard('LetsUpgrade')\n",
    "print(my_set)\n",
    "\n",
    "A = {'a', 'c', 'd'}\n",
    "B = {'c', 'd', 2 }\n",
    "C = {1, 2, 3}\n",
    "print('A U B =', A.union(B))\n",
    "\n",
    "my_set.clear()\n",
    "print(my_set)"
   ]
  },
  {
   "cell_type": "markdown",
   "metadata": {},
   "source": [
    "# Question 4 : Given a list of n-1 numbers ranging from 1 to n, your task is to find the missing number. There are no duplicates.¶"
   ]
  },
  {
   "cell_type": "code",
   "execution_count": 7,
   "metadata": {},
   "outputs": [
    {
     "name": "stdout",
     "output_type": "stream",
     "text": [
      "Enter Numbers with a range(1-n) Separate by Space (No Duplicates) : 1 3 5 7 8 9 11 13\n",
      "List of Numbers : [1, 3, 5, 7, 8, 9, 11, 13]\n",
      "Missing Number  : 2\n",
      "Missing Number  : 4\n",
      "Missing Number  : 6\n",
      "Missing Number  : 10\n",
      "Missing Number  : 12\n"
     ]
    }
   ],
   "source": [
    "numbers = input(\"Enter Numbers with a range(1-n) Separate by Space (No Duplicates) : \").split(' ')\n",
    "n_list = []\n",
    "for n in numbers: \n",
    "    n_list.append(int(n))\n",
    "n_list.sort() \n",
    "print(f'List of Numbers : {n_list}')\n",
    "\n",
    "counter = 1\n",
    "\n",
    "for num in n_list:\n",
    "    if counter == num:\n",
    "        counter+=1\n",
    "    else:\n",
    "        print(f'Missing Number  : {counter}')\n",
    "        counter+=2"
   ]
  },
  {
   "cell_type": "markdown",
   "metadata": {},
   "source": [
    "# Question 5: With a given list L, write a program to print this list L after removing all duplicate values with original order reserved."
   ]
  },
  {
   "cell_type": "code",
   "execution_count": 8,
   "metadata": {},
   "outputs": [
    {
     "name": "stdout",
     "output_type": "stream",
     "text": [
      "Enter Numbers Separate by Space : 2 2 2 4 4 4 5 1\n",
      "List of Numbers : [1, 2, 2, 2, 4, 4, 4, 5]\n",
      "Without Duplicate Numbers : [1, 2, 4, 5] \n"
     ]
    }
   ],
   "source": [
    "numbers = input(\"Enter Numbers Separate by Space : \").split(' ')\n",
    "n_list = []\n",
    "for n in numbers:\n",
    "    n_list.append(int(n))\n",
    "n_list.sort()\n",
    "print(f'List of Numbers : {n_list}')\n",
    "\n",
    "print(f'Without Duplicate Numbers : {list(dict.fromkeys(n_list))} ')"
   ]
  },
  {
   "cell_type": "code",
   "execution_count": null,
   "metadata": {},
   "outputs": [],
   "source": []
  }
 ],
 "metadata": {
  "kernelspec": {
   "display_name": "Python 3",
   "language": "python",
   "name": "python3"
  },
  "language_info": {
   "codemirror_mode": {
    "name": "ipython",
    "version": 3
   },
   "file_extension": ".py",
   "mimetype": "text/x-python",
   "name": "python",
   "nbconvert_exporter": "python",
   "pygments_lexer": "ipython3",
   "version": "3.7.6"
  }
 },
 "nbformat": 4,
 "nbformat_minor": 4
}
